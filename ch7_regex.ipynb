{
 "cells": [
  {
   "cell_type": "markdown",
   "metadata": {},
   "source": [
    " # PATTERN MATCHING WITH REGULAR EXPRESSIONS\n",
    "\n"
   ]
  },
  {
   "cell_type": "markdown",
   "metadata": {},
   "source": [
    "## chapter 7"
   ]
  },
  {
   "cell_type": "code",
   "execution_count": 1,
   "metadata": {},
   "outputs": [],
   "source": [
    "import re"
   ]
  },
  {
   "cell_type": "code",
   "execution_count": 2,
   "metadata": {},
   "outputs": [],
   "source": [
    "phoneNumRegex = re.compile(r'\\d{3}-\\d{3}-\\d{4}')"
   ]
  },
  {
   "cell_type": "markdown",
   "metadata": {},
   "source": [
    "where the 'r' marks the string as 'raw' and the curly brackets indicate how many time the pattern is repeated "
   ]
  },
  {
   "cell_type": "code",
   "execution_count": 4,
   "metadata": {},
   "outputs": [],
   "source": [
    "mo = phoneNumRegex.search('My number is 415-555-4242.')"
   ]
  },
  {
   "cell_type": "code",
   "execution_count": 5,
   "metadata": {},
   "outputs": [
    {
     "name": "stdout",
     "output_type": "stream",
     "text": [
      "Phone number found: 415-555-4242\n"
     ]
    }
   ],
   "source": [
    "print('Phone number found: ' + mo.group())"
   ]
  },
  {
   "cell_type": "markdown",
   "metadata": {},
   "source": [
    "useful site: https://www.regexpal.com/"
   ]
  },
  {
   "cell_type": "code",
   "execution_count": 6,
   "metadata": {},
   "outputs": [
    {
     "data": {
      "text/plain": [
       "'415'"
      ]
     },
     "execution_count": 6,
     "metadata": {},
     "output_type": "execute_result"
    }
   ],
   "source": [
    "phoneNumRegex = re.compile(r'(\\d\\d\\d)-(\\d\\d\\d-\\d\\d\\d\\d)')\n",
    "mo = phoneNumRegex.search('My number is 415-555-4242.')\n",
    "mo.group(1)\n",
    "\n"
   ]
  },
  {
   "cell_type": "code",
   "execution_count": 8,
   "metadata": {},
   "outputs": [
    {
     "data": {
      "text/plain": [
       "'555-4242'"
      ]
     },
     "execution_count": 8,
     "metadata": {},
     "output_type": "execute_result"
    }
   ],
   "source": [
    "mo.group(2)"
   ]
  },
  {
   "cell_type": "code",
   "execution_count": 9,
   "metadata": {},
   "outputs": [
    {
     "data": {
      "text/plain": [
       "'415-555-4242'"
      ]
     },
     "execution_count": 9,
     "metadata": {},
     "output_type": "execute_result"
    }
   ],
   "source": [
    "mo.group(0)"
   ]
  },
  {
   "cell_type": "code",
   "execution_count": 10,
   "metadata": {},
   "outputs": [
    {
     "data": {
      "text/plain": [
       "'415-555-4242'"
      ]
     },
     "execution_count": 10,
     "metadata": {},
     "output_type": "execute_result"
    }
   ],
   "source": [
    "mo.group()"
   ]
  },
  {
   "cell_type": "code",
   "execution_count": 11,
   "metadata": {},
   "outputs": [
    {
     "name": "stdout",
     "output_type": "stream",
     "text": [
      "('415', '555-4242')\n",
      "415\n",
      "555-4242\n"
     ]
    }
   ],
   "source": [
    "print(mo.groups())\n",
    "areaCode, mainNumber = mo.groups()\n",
    "print(areaCode)\n",
    "print(mainNumber)"
   ]
  },
  {
   "cell_type": "markdown",
   "metadata": {},
   "source": [
    "# Pipes"
   ]
  },
  {
   "cell_type": "code",
   "execution_count": 15,
   "metadata": {},
   "outputs": [
    {
     "name": "stdout",
     "output_type": "stream",
     "text": [
      "Batman\n",
      "Tina Fey\n"
     ]
    }
   ],
   "source": [
    "heroRegex = re.compile (r'Batman|Tina Fey')\n",
    "mo1 = heroRegex.search('Batman and Tina Fey.')\n",
    "print(mo1.group())\n",
    "mo2 = heroRegex.search('Tina Fey and Batman.')\n",
    "print(mo2.group())"
   ]
  },
  {
   "cell_type": "code",
   "execution_count": 16,
   "metadata": {},
   "outputs": [
    {
     "name": "stdout",
     "output_type": "stream",
     "text": [
      "Batmobile\n",
      "mobile\n"
     ]
    }
   ],
   "source": [
    "batRegex = re.compile(r'Bat(man|mobile|copter|bat)')\n",
    "mo = batRegex.search('Batmobile lost a wheel')\n",
    "print(mo.group())\n",
    "print(mo.group(1))"
   ]
  },
  {
   "cell_type": "markdown",
   "metadata": {},
   "source": [
    "# Optional"
   ]
  },
  {
   "cell_type": "code",
   "execution_count": 17,
   "metadata": {},
   "outputs": [
    {
     "name": "stdout",
     "output_type": "stream",
     "text": [
      "Batman\n",
      "Batwoman\n"
     ]
    }
   ],
   "source": [
    "batRegex = re.compile(r'Bat(wo)?man')\n",
    "mo1 = batRegex.search('The Adventures of Batman')\n",
    "print(mo1.group())\n",
    "mo2 = batRegex.search('The Adventures of Batwoman')\n",
    "print(mo2.group())"
   ]
  },
  {
   "cell_type": "markdown",
   "metadata": {},
   "source": [
    "# Zero or more "
   ]
  },
  {
   "cell_type": "code",
   "execution_count": 18,
   "metadata": {},
   "outputs": [
    {
     "name": "stdout",
     "output_type": "stream",
     "text": [
      "Batman\n",
      "Batwoman\n",
      "Batwowowowoman\n"
     ]
    }
   ],
   "source": [
    "batRegex = re.compile(r'Bat(wo)*man')\n",
    "mo1 = batRegex.search('The Adventures of Batman')\n",
    "print(mo1.group())\n",
    "mo2 = batRegex.search('The Adventures of Batwoman')\n",
    "print(mo2.group())\n",
    "mo3 = batRegex.search('The Adventures of Batwowowowoman')\n",
    "print(mo3.group())"
   ]
  },
  {
   "cell_type": "markdown",
   "metadata": {},
   "source": [
    "# One or more"
   ]
  },
  {
   "cell_type": "code",
   "execution_count": 19,
   "metadata": {},
   "outputs": [
    {
     "name": "stdout",
     "output_type": "stream",
     "text": [
      "Batwoman\n",
      "Batwowowowoman\n"
     ]
    }
   ],
   "source": [
    "batRegex = re.compile(r'Bat(wo)+man')\n",
    "mo1 = batRegex.search('The Adventures of Batwoman')\n",
    "print(mo1.group())\n",
    "mo2 = batRegex.search('The Adventures of Batwowowowoman')\n",
    "print(mo2.group())"
   ]
  },
  {
   "cell_type": "markdown",
   "metadata": {},
   "source": [
    "# Greedy"
   ]
  },
  {
   "cell_type": "code",
   "execution_count": 20,
   "metadata": {},
   "outputs": [
    {
     "name": "stdout",
     "output_type": "stream",
     "text": [
      "HaHaHaHaHa\n",
      "HaHaHa\n"
     ]
    }
   ],
   "source": [
    "greedyHaRegex = re.compile(r'(Ha){3,5}')\n",
    "mo1 = greedyHaRegex.search('HaHaHaHaHa')\n",
    "print(mo1.group())\n",
    "nongreedyHaRegex = re.compile(r'(Ha){3,5}?')\n",
    "mo2 = nongreedyHaRegex.search('HaHaHaHaHa')\n",
    "print(mo2.group())"
   ]
  },
  {
   "cell_type": "markdown",
   "metadata": {},
   "source": [
    "# findall()"
   ]
  },
  {
   "cell_type": "code",
   "execution_count": 21,
   "metadata": {},
   "outputs": [
    {
     "data": {
      "text/plain": [
       "['415-555-9999', '212-555-0000']"
      ]
     },
     "execution_count": 21,
     "metadata": {},
     "output_type": "execute_result"
    }
   ],
   "source": [
    "phoneNumRegex = re.compile(r'\\d\\d\\d-\\d\\d\\d-\\d\\d\\d\\d') # has no groups\n",
    "phoneNumRegex.findall('Cell: 415-555-9999 Work: 212-555-0000')\n"
   ]
  },
  {
   "cell_type": "code",
   "execution_count": 22,
   "metadata": {},
   "outputs": [
    {
     "data": {
      "text/plain": [
       "[('415', '555', '9999'), ('212', '555', '0000')]"
      ]
     },
     "execution_count": 22,
     "metadata": {},
     "output_type": "execute_result"
    }
   ],
   "source": [
    "phoneNumRegex = re.compile(r'(\\d\\d\\d)-(\\d\\d\\d)-(\\d\\d\\d\\d)') # has groups\n",
    "phoneNumRegex.findall('Cell: 415-555-9999 Work: 212-555-0000')"
   ]
  },
  {
   "cell_type": "markdown",
   "metadata": {},
   "source": [
    "# tailormade classes"
   ]
  },
  {
   "cell_type": "code",
   "execution_count": 24,
   "metadata": {},
   "outputs": [
    {
     "data": {
      "text/plain": [
       "['o', 'o', 'o', 'e', 'a', 'a', 'o', 'o', 'A', 'O', 'O']"
      ]
     },
     "execution_count": 24,
     "metadata": {},
     "output_type": "execute_result"
    }
   ],
   "source": [
    "vowelRegex = re.compile(r'[aeiouAEIOU]')\n",
    "vowelRegex.findall('RoboCop eats baby food. BABY FOOD.')"
   ]
  },
  {
   "cell_type": "code",
   "execution_count": 31,
   "metadata": {},
   "outputs": [
    {
     "data": {
      "text/plain": [
       "['R', 'b', 'C', 'p']"
      ]
     },
     "execution_count": 31,
     "metadata": {},
     "output_type": "execute_result"
    }
   ],
   "source": [
    "consonantRegex = re.compile(r'[^aeiouAEIOU]')\n",
    "consonantRegex.findall('RoboCop')"
   ]
  },
  {
   "cell_type": "markdown",
   "metadata": {},
   "source": [
    "# Beginning and end"
   ]
  },
  {
   "cell_type": "code",
   "execution_count": 33,
   "metadata": {},
   "outputs": [
    {
     "name": "stdout",
     "output_type": "stream",
     "text": [
      "<re.Match object; span=(0, 5), match='Hello'>\n"
     ]
    },
    {
     "data": {
      "text/plain": [
       "True"
      ]
     },
     "execution_count": 33,
     "metadata": {},
     "output_type": "execute_result"
    }
   ],
   "source": [
    "beginsWithHello = re.compile(r'^Hello')\n",
    "print(beginsWithHello.search('Hello world!'))\n",
    "beginsWithHello.search('He said hello.') == None"
   ]
  },
  {
   "cell_type": "code",
   "execution_count": 36,
   "metadata": {},
   "outputs": [
    {
     "name": "stdout",
     "output_type": "stream",
     "text": [
      "<re.Match object; span=(16, 17), match='2'>\n",
      "None\n"
     ]
    }
   ],
   "source": [
    "endsWithNumber = re.compile(r'\\d$')\n",
    "print(endsWithNumber.search('Your number is 42'))\n",
    "print(endsWithNumber.search('Your number is forty two.'))"
   ]
  },
  {
   "cell_type": "code",
   "execution_count": 37,
   "metadata": {},
   "outputs": [
    {
     "name": "stdout",
     "output_type": "stream",
     "text": [
      "<re.Match object; span=(0, 10), match='1234567890'>\n",
      "True\n",
      "True\n"
     ]
    }
   ],
   "source": [
    "wholeStringIsNum = re.compile(r'^\\d+$')\n",
    "print(wholeStringIsNum.search('1234567890'))\n",
    "print(wholeStringIsNum.search('12345xyz67890') == None)\n",
    "\n",
    "print(wholeStringIsNum.search('12 34567890') == None)"
   ]
  },
  {
   "cell_type": "markdown",
   "metadata": {},
   "source": [
    "# Wildcard"
   ]
  },
  {
   "cell_type": "code",
   "execution_count": 38,
   "metadata": {},
   "outputs": [
    {
     "data": {
      "text/plain": [
       "['cat', 'hat', 'sat', 'lat', 'mat']"
      ]
     },
     "execution_count": 38,
     "metadata": {},
     "output_type": "execute_result"
    }
   ],
   "source": [
    "atRegex = re.compile(r'.at')\n",
    "atRegex.findall('The cat in the hat sat on the flat mat.')"
   ]
  },
  {
   "cell_type": "code",
   "execution_count": 39,
   "metadata": {},
   "outputs": [
    {
     "name": "stdout",
     "output_type": "stream",
     "text": [
      "Al\n",
      "Sweigart\n"
     ]
    }
   ],
   "source": [
    "nameRegex = re.compile(r'First Name: (.*) Last Name: (.*)')\n",
    "mo = nameRegex.search('First Name: Al Last Name: Sweigart')\n",
    "print(mo.group(1))\n",
    "print(mo.group(2))"
   ]
  },
  {
   "cell_type": "code",
   "execution_count": 40,
   "metadata": {},
   "outputs": [
    {
     "name": "stdout",
     "output_type": "stream",
     "text": [
      "<To serve man>\n",
      "<To serve man> for dinner.>\n"
     ]
    }
   ],
   "source": [
    "nongreedyRegex = re.compile(r'<.*?>')\n",
    "mo = nongreedyRegex.search('<To serve man> for dinner.>')\n",
    "print(mo.group())\n",
    "greedyRegex = re.compile(r'<.*>')\n",
    "mo = greedyRegex.search('<To serve man> for dinner.>')\n",
    "print(mo.group())"
   ]
  },
  {
   "cell_type": "markdown",
   "metadata": {},
   "source": [
    "# Review"
   ]
  },
  {
   "cell_type": "markdown",
   "metadata": {},
   "source": [
    "The ? matches zero or one of the preceding group.\n",
    "\n",
    "The * matches zero or more of the preceding group.\n",
    "\n",
    "The + matches one or more of the preceding group.\n",
    "\n",
    "The {n} matches exactly n of the preceding group.\n",
    "\n",
    "The {n,} matches n or more of the preceding group.\n",
    "\n",
    "The {,m} matches 0 to m of the preceding group.\n",
    "\n",
    "The {n,m} matches at least n and at most m of the preceding group.\n",
    "\n",
    "{n,m}? or *? or +? performs a nongreedy match of the preceding group.\n",
    "\n",
    "^spam means the string must begin with spam.\n",
    "\n",
    "spam$ means the string must end with spam.\n",
    "\n",
    "The . matches any character, except newline characters.\n",
    "\\d , \\w , and \\s match a digit, word, or space character, respectively.\n",
    "\n",
    "\\D , \\W , and \\S match anything except a digit, word, or space character,\n",
    "respectively.\n",
    "\n",
    "[abc] matches any character between the brackets (such as a, b, or c).\n",
    "\n",
    "[^abc] matches any character that isn’t between the brackets."
   ]
  },
  {
   "cell_type": "markdown",
   "metadata": {},
   "source": [
    "# case insensitive"
   ]
  },
  {
   "cell_type": "code",
   "execution_count": 42,
   "metadata": {},
   "outputs": [
    {
     "name": "stdout",
     "output_type": "stream",
     "text": [
      "RoboCop\n",
      "ROBOCOP\n",
      "robocop\n"
     ]
    }
   ],
   "source": [
    "robocop = re.compile(r'robocop', re.I)\n",
    "print(robocop.search('RoboCop is part man, part machine, all cop.').group())\n",
    "print(robocop.search('ROBOCOP protects the innocent.').group())\n",
    "print(robocop.search('Al, why does your programming book talk about robocop so much?').group())"
   ]
  },
  {
   "cell_type": "markdown",
   "metadata": {},
   "source": [
    "# sub"
   ]
  },
  {
   "cell_type": "code",
   "execution_count": 43,
   "metadata": {},
   "outputs": [
    {
     "data": {
      "text/plain": [
       "'CENSORED gave the secret documents to CENSORED.'"
      ]
     },
     "execution_count": 43,
     "metadata": {},
     "output_type": "execute_result"
    }
   ],
   "source": [
    "namesRegex = re.compile(r'Agent \\w+')\n",
    "namesRegex.sub('CENSORED', 'Agent Alice gave the secret documents to Agent Bob.')"
   ]
  },
  {
   "cell_type": "code",
   "execution_count": 45,
   "metadata": {},
   "outputs": [
    {
     "data": {
      "text/plain": [
       "'A**** told C**** that E**** knew B**** was a double agent.'"
      ]
     },
     "execution_count": 45,
     "metadata": {},
     "output_type": "execute_result"
    }
   ],
   "source": [
    "agentNamesRegex = re.compile(r'Agent (\\w)\\w*')\n",
    "agentNamesRegex.sub(r'\\1****', 'Agent Alice told Agent Carol that Agent Eve knew Agent Bob was a double agent.')"
   ]
  },
  {
   "cell_type": "code",
   "execution_count": null,
   "metadata": {},
   "outputs": [],
   "source": []
  },
  {
   "cell_type": "markdown",
   "metadata": {},
   "source": [
    "# Shorthands\n",
    "\n",
    "\\d       Any numeric digit from 0 to 9.\n",
    "\n",
    "\\D       Any character that is not a numeric digit from 0 to 9.\n",
    "\n",
    "\\w       Any letter, numeric digit, or the underscore character.\n",
    "(Think of this as matching “word” characters.)\n",
    "\n",
    "\\W       Any character that is not a letter, numeric digit, or the\n",
    "underscore character.\n",
    "\n",
    "\\s       Any space, tab, or newline character. (Think of this as\n",
    "matching “space” characters.)\n",
    "\n",
    "\\S       Any character that is not a space, tab, or newline."
   ]
  },
  {
   "cell_type": "code",
   "execution_count": null,
   "metadata": {},
   "outputs": [],
   "source": []
  },
  {
   "cell_type": "code",
   "execution_count": null,
   "metadata": {},
   "outputs": [],
   "source": []
  }
 ],
 "metadata": {
  "kernelspec": {
   "display_name": "Python 3",
   "language": "python",
   "name": "python3"
  },
  "language_info": {
   "codemirror_mode": {
    "name": "ipython",
    "version": 3
   },
   "file_extension": ".py",
   "mimetype": "text/x-python",
   "name": "python",
   "nbconvert_exporter": "python",
   "pygments_lexer": "ipython3",
   "version": "3.7.4"
  }
 },
 "nbformat": 4,
 "nbformat_minor": 2
}
